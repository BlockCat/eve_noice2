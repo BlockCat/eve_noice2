{
 "cells": [
  {
   "cell_type": "code",
   "execution_count": null,
   "metadata": {},
   "outputs": [],
   "source": [
    "import sqlite3\n",
    "import pandas as pd\n",
    "import matplotlib.pyplot as plt\n",
    "import numpy as np\n",
    "from math import e"
   ]
  },
  {
   "cell_type": "code",
   "execution_count": null,
   "metadata": {},
   "outputs": [],
   "source": [
    "\n",
    "connection = sqlite3.connect('file:database.db?mode=ro', uri=True)\n",
    "\n",
    "# market_orders = pd.read_sql_query(\"SELECT * FROM market_orders\", connection)\n",
    "market_history = pd.read_sql_query(\"SELECT * FROM market_history\", connection)\n",
    "connection.close()\n",
    "\n",
    "market_history = market_history.sort_values(by=['date'])\n"
   ]
  },
  {
   "cell_type": "code",
   "execution_count": null,
   "metadata": {},
   "outputs": [],
   "source": [
    "item_34 = market_history.loc[market_history['item_id'] == 29043]\n",
    "item_34 = item_34.loc[item_34['region_id'] == 10000002]\n",
    "\n",
    "item_34"
   ]
  },
  {
   "cell_type": "code",
   "execution_count": null,
   "metadata": {},
   "outputs": [],
   "source": [
    "last_30_days = item_34.tail(30)\n",
    "rolling_7 = item_34['average_price'].rolling(7).mean().tail(30)\n",
    "rolling_30 = item_34['average_price'].rolling(30).mean().tail(30)\n",
    "\n",
    "plt.figure()\n",
    "plt.plot(last_30_days['date'], last_30_days['average_price'], label='average_price', color='orange')\n",
    "plt.plot(last_30_days['date'], last_30_days['low_price'], label='average_price', color='red')\n",
    "plt.plot(last_30_days['date'], last_30_days['high_price'], label='average_price', color='green')\n",
    "plt.plot(last_30_days['date'], rolling_7, label='average_price', color='blue')\n",
    "plt.plot(last_30_days['date'], rolling_30, label='average_price', color='purple')\n",
    "\n",
    "plt.fill_between(last_30_days['date'], last_30_days['low_price'], last_30_days['high_price'], alpha=0.2)\n",
    "plt.xticks(rotation=90)\n",
    "plt.show()\n"
   ]
  },
  {
   "cell_type": "code",
   "execution_count": null,
   "metadata": {},
   "outputs": [],
   "source": [
    "last_30_days = item_34.tail(30)\n",
    "difference = last_30_days['high_price'] - last_30_days['low_price']\n",
    "relative_to_low = last_30_days['average_price'] - last_30_days['low_price']\n",
    "relative = relative_to_low / difference\n",
    "plt.figure()\n",
    "\n",
    "# plt.plot(last_30_days['date'], difference, label='average_price')\n",
    "plt.plot(last_30_days['date'], relative, label='average_price')\n",
    "\n",
    "plt.show()"
   ]
  },
  {
   "cell_type": "code",
   "execution_count": null,
   "metadata": {},
   "outputs": [],
   "source": [
    "item_34['margin'] = ((item_34['high_price'] - item_34['low_price']) / item_34['low_price']) * 100\n",
    "item_34['expected_history_profit'] = (item_34['high_price'] * 0.91) - (item_34['low_price'] * 1.09)\n",
    "item_34"
   ]
  },
  {
   "cell_type": "markdown",
   "metadata": {},
   "source": [
    "## Calculating expected profit value per item\n",
    "\n",
    "We need to now the open buy and sell prices of the day, via market orders we can calculate the average buy/sell prices of the day.\n",
    "I think we might also need data of the 7d rolling buy/sell prices.\n",
    "\n",
    "With this data we can calculate the following useful data points:\n",
    "- 1d/7d margin\n",
    "- 1d/7d spread\n",
    "\n",
    "We use worst case scenario of taxes. 8% taxes on buy and sell prices.\n",
    "We also have a _variable_ $n$ to describe our buy order frequence which we will use for taxes\n",
    "\n",
    "$$profit = (sell - 9\\%) - (buy + 9\\% + (n*1\\%))$$\n",
    "\n",
    "This profit describes the average profit per item.\n",
    "\n",
    "## Percentage of market capture\n",
    "\n",
    "From the previous part we have update frequence $n$, which we assume is spread throughout the day.\n",
    "\n",
    "Now we need to calculate how much of the market we can capture. We have:\n",
    "- User Update Frequency\n",
    "- Competition order update frequency.\n",
    "- Competition order update frequency over time\n",
    "\n",
    "Based on competition we can calculate the percentage of market capture per day.\n",
    "$$\\text{time_before_competing_order} = (24h / \\text{competition_orders})$$\n",
    "$$\\text{time_on_top} = \\text{time_before_competing_order} * n$$\n",
    "\n",
    "## Items bought to Items sold\n",
    "\n",
    "Items that are bought need to be sold.\n",
    "\n",
    "We have:\n",
    "- Volume of items traded\n",
    "- Volume of buy/sell orders that disapeared\n",
    "- buy/sell ratio\n",
    "\n",
    "I guess we can take the lowest of the buy/sell volume averaged over a few days."
   ]
  },
  {
   "cell_type": "code",
   "execution_count": null,
   "metadata": {},
   "outputs": [],
   "source": [
    "connection = sqlite3.connect('file:database.db?mode=ro', uri=True)\n",
    "\n",
    "market_orders = pd.read_sql_query(\"SELECT * FROM market_orders WHERE item_id=2311\", connection)\n",
    "# market_history = pd.read_sql_query(\"SELECT * FROM market_history\", connection)\n",
    "connection.close()\n",
    "\n",
    "market_orders = market_orders.sort_values(by=['order_id', 'issued'])"
   ]
  },
  {
   "cell_type": "markdown",
   "metadata": {},
   "source": [
    "## Useful queries\n",
    "\n",
    "- Fulfilled: `SELECT order_id, issued, count(*) FROM market_orders GROUP BY order_id, issued HAVING count(*) > 1 ORDER BY order_id, issued LIMIT 100;`\n",
    "- Updated: `SELECT order_id, count(*) FROM market_orders GROUP BY order_id, volume_remain HAVING count(*) > 1 ORDER BY order_id limit 100;`\n",
    "- Competition 24 buy `SELECT count(1), item_id FROM market_orders WHERE buy_order=1 AND datetime(issued) >= datetime('now', '-1 Day') GROUP BY item_id;`  \n",
    "- Competition 24 sell `SELECT count(1), item_id FROM market_orders WHERE buy_order=0 AND datetime(issued) >= datetime('now', '-1 Day') GROUP BY item_id;` \n",
    "- Competition 3 buy `SELECT count(1), item_id FROM market_orders WHERE buy_order=1 AND datetime(issued) >= datetime('now', '-3 Hour') GROUP BY item_id;`\n",
    "- Competition 3 sell `SELECT count(1), item_id FROM market_orders WHERE buy_order=0 AND datetime(issued) >= datetime('now', '-3 Hour') GROUP BY item_id;`"
   ]
  },
  {
   "cell_type": "code",
   "execution_count": null,
   "metadata": {},
   "outputs": [],
   "source": [
    "order_34 = market_orders\n",
    "order_34.sort_values(by=['order_id', 'issued'])"
   ]
  },
  {
   "cell_type": "code",
   "execution_count": null,
   "metadata": {},
   "outputs": [],
   "source": [
    "order_34 = order_34[order_34.groupby('order_id')['order_id'].transform('size') > 1]\n",
    "order_34"
   ]
  }
 ],
 "metadata": {
  "kernelspec": {
   "display_name": "Python 3",
   "language": "python",
   "name": "python3"
  },
  "language_info": {
   "codemirror_mode": {
    "name": "ipython",
    "version": 3
   },
   "file_extension": ".py",
   "mimetype": "text/x-python",
   "name": "python",
   "nbconvert_exporter": "python",
   "pygments_lexer": "ipython3",
   "version": "3.11.5"
  }
 },
 "nbformat": 4,
 "nbformat_minor": 2
}
